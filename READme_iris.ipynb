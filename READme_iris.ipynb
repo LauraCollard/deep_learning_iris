{
 "cells": [
  {
   "cell_type": "markdown",
   "metadata": {},
   "source": [
    "# Predicting Iris species with Deep learning\n",
    "In this project, we use a Deep Learning approach to predict Iris species.\n",
    "It is a multi-class classification problem where each class corresponds to a species of Iris (*Iris Setosa*, *Iris Versicolour* and *Iris Virginica*). The dataset for this project is the famous [Iris dataset](https://archive.ics.uci.edu/ml/datasets/Iris) from UCI Machine Learning Repository.\n",
    "\n",
    "The final model is a 3-layer neural network that predict an Iris species with 96.6% accuracy.\n",
    "\n",
    "**Toolkit**: Python, Tensorflow, Neural network, Adam optimizer"
   ]
  },
  {
   "cell_type": "code",
   "execution_count": null,
   "metadata": {},
   "outputs": [],
   "source": []
  }
 ],
 "metadata": {
  "kernelspec": {
   "display_name": "Python [conda env:anaconda3]",
   "language": "python",
   "name": "conda-env-anaconda3-py"
  },
  "language_info": {
   "codemirror_mode": {
    "name": "ipython",
    "version": 3
   },
   "file_extension": ".py",
   "mimetype": "text/x-python",
   "name": "python",
   "nbconvert_exporter": "python",
   "pygments_lexer": "ipython3",
   "version": "3.6.3"
  }
 },
 "nbformat": 4,
 "nbformat_minor": 2
}
